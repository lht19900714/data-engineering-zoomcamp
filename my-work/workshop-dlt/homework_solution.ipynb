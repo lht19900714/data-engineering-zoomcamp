{
 "nbformat": 4,
 "nbformat_minor": 0,
 "metadata": {
  "colab": {
   "provenance": []
  },
  "kernelspec": {
   "name": "python3",
   "display_name": "Python 3"
  },
  "language_info": {
   "name": "python"
  }
 },
 "cells": [
  {
   "cell_type": "markdown",
   "source": [
    "# **Homework**: Data talks club data engineering zoomcamp Data loading workshop\n",
    "\n",
    "Hello folks, let's practice what we learned - Loading data with the best practices of data engineering.\n",
    "\n",
    "Here are the exercises we will do\n",
    "\n",
    "\n"
   ],
   "metadata": {
    "id": "mrTFv5nPClXh"
   }
  },
  {
   "cell_type": "markdown",
   "source": [
    "# 1. Use a generator\n",
    "\n",
    "Remember the concept of generator? Let's practice using them to futher our understanding of how they work.\n",
    "\n",
    "Let's define a generator and then run it as practice.\n",
    "\n",
    "**Answer the following questions:**\n",
    "\n",
    "- **Question 1: What is the sum of the outputs of the generator for limit = 5?**\n",
    "- **Question 2: What is the 13th number yielded**\n",
    "\n",
    "I suggest practicing these questions without GPT as the purpose is to further your learning."
   ],
   "metadata": {
    "id": "wLF4iXf-NR7t"
   }
  },
  {
   "cell_type": "markdown",
   "source": [
    "Answer for question 1:\n",
    "- The sum of the outputs of the generator for limit = 5 is 8.382332347441762\n",
    "Answer for question 2:\n",
    "- The 13th number yielded is 3.605551275463989"
   ],
   "metadata": {
    "collapsed": false
   }
  },
  {
   "cell_type": "code",
   "source": [
    "def square_root_generator(limit):\n",
    "    n = 1\n",
    "    while n <= limit:\n",
    "        yield n ** 0.5\n",
    "        n += 1\n",
    "\n",
    "# Example usage:\n",
    "limit = 5\n",
    "generator = square_root_generator(limit)\n",
    "\n",
    "res = 0\n",
    "for sqrt_value in generator:\n",
    "    print(sqrt_value)\n",
    "    res += sqrt_value\n",
    "print(res)\n",
    "print('---')\n",
    "limit = 13\n",
    "generator = square_root_generator(limit)\n",
    "\n",
    "for sqrt_value in generator:\n",
    "    print(sqrt_value)\n",
    "\n"
   ],
   "metadata": {
    "colab": {
     "base_uri": "https://localhost:8080/"
    },
    "id": "wLng-bDJN4jf",
    "outputId": "547683cb-5f56-4815-a903-d0d9578eb1f9"
   },
   "execution_count": 17,
   "outputs": [
    {
     "name": "stdout",
     "output_type": "stream",
     "text": [
      "1.0\n",
      "1.4142135623730951\n",
      "1.7320508075688772\n",
      "2.0\n",
      "2.23606797749979\n",
      "8.382332347441762\n",
      "---\n",
      "1.0\n",
      "1.4142135623730951\n",
      "1.7320508075688772\n",
      "2.0\n",
      "2.23606797749979\n",
      "2.449489742783178\n",
      "2.6457513110645907\n",
      "2.8284271247461903\n",
      "3.0\n",
      "3.1622776601683795\n",
      "3.3166247903554\n",
      "3.4641016151377544\n",
      "3.605551275463989\n"
     ]
    }
   ]
  },
  {
   "cell_type": "markdown",
   "source": [],
   "metadata": {
    "id": "xbe3q55zN43j"
   }
  },
  {
   "cell_type": "markdown",
   "source": [
    "# 2. Append a generator to a table with existing data\n",
    "\n",
    "\n",
    "Below you have 2 generators. You will be tasked to load them to duckdb and answer some questions from the data\n",
    "\n",
    "1. Load the first generator and calculate the sum of ages of all people. Make sure to only load it once.\n",
    "2. Append the second generator to the same table as the first.\n",
    "3. **After correctly appending the data, calculate the sum of all ages of people.**\n",
    "\n",
    "\n"
   ],
   "metadata": {
    "id": "vjWhILzGJMpK"
   }
  },
  {
   "cell_type": "code",
   "execution_count": 18,
   "metadata": {
    "colab": {
     "base_uri": "https://localhost:8080/"
    },
    "id": "2MoaQcdLBEk6",
    "outputId": "d2b93dc1-d83f-44ea-aeff-fdf51d75f7aa"
   },
   "outputs": [
    {
     "name": "stdout",
     "output_type": "stream",
     "text": [
      "{'ID': 1, 'Name': 'Person_1', 'Age': 26, 'City': 'City_A'}\n",
      "{'ID': 2, 'Name': 'Person_2', 'Age': 27, 'City': 'City_A'}\n",
      "{'ID': 3, 'Name': 'Person_3', 'Age': 28, 'City': 'City_A'}\n",
      "{'ID': 4, 'Name': 'Person_4', 'Age': 29, 'City': 'City_A'}\n",
      "{'ID': 5, 'Name': 'Person_5', 'Age': 30, 'City': 'City_A'}\n",
      "{'ID': 3, 'Name': 'Person_3', 'Age': 33, 'City': 'City_B', 'Occupation': 'Job_3'}\n",
      "{'ID': 4, 'Name': 'Person_4', 'Age': 34, 'City': 'City_B', 'Occupation': 'Job_4'}\n",
      "{'ID': 5, 'Name': 'Person_5', 'Age': 35, 'City': 'City_B', 'Occupation': 'Job_5'}\n",
      "{'ID': 6, 'Name': 'Person_6', 'Age': 36, 'City': 'City_B', 'Occupation': 'Job_6'}\n",
      "{'ID': 7, 'Name': 'Person_7', 'Age': 37, 'City': 'City_B', 'Occupation': 'Job_7'}\n",
      "{'ID': 8, 'Name': 'Person_8', 'Age': 38, 'City': 'City_B', 'Occupation': 'Job_8'}\n"
     ]
    }
   ],
   "source": [
    "def people_1():\n",
    "    for i in range(1, 6):\n",
    "        yield {\"ID\": i, \"Name\": f\"Person_{i}\", \"Age\": 25 + i, \"City\": \"City_A\"}\n",
    "\n",
    "for person in people_1():\n",
    "    print(person)\n",
    "\n",
    "\n",
    "def people_2():\n",
    "    for i in range(3, 9):\n",
    "        yield {\"ID\": i, \"Name\": f\"Person_{i}\", \"Age\": 30 + i, \"City\": \"City_B\", \"Occupation\": f\"Job_{i}\"}\n",
    "\n",
    "\n",
    "for person in people_2():\n",
    "    print(person)\n"
   ]
  },
  {
   "cell_type": "code",
   "execution_count": 19,
   "outputs": [
    {
     "data": {
      "text/plain": "   sum(Age)\n0     140.0",
      "text/html": "<div>\n<style scoped>\n    .dataframe tbody tr th:only-of-type {\n        vertical-align: middle;\n    }\n\n    .dataframe tbody tr th {\n        vertical-align: top;\n    }\n\n    .dataframe thead th {\n        text-align: right;\n    }\n</style>\n<table border=\"1\" class=\"dataframe\">\n  <thead>\n    <tr style=\"text-align: right;\">\n      <th></th>\n      <th>sum(Age)</th>\n    </tr>\n  </thead>\n  <tbody>\n    <tr>\n      <th>0</th>\n      <td>140.0</td>\n    </tr>\n  </tbody>\n</table>\n</div>"
     },
     "metadata": {},
     "output_type": "display_data"
    },
    {
     "data": {
      "text/plain": "   sum(Age)\n0     353.0",
      "text/html": "<div>\n<style scoped>\n    .dataframe tbody tr th:only-of-type {\n        vertical-align: middle;\n    }\n\n    .dataframe tbody tr th {\n        vertical-align: top;\n    }\n\n    .dataframe thead th {\n        text-align: right;\n    }\n</style>\n<table border=\"1\" class=\"dataframe\">\n  <thead>\n    <tr style=\"text-align: right;\">\n      <th></th>\n      <th>sum(Age)</th>\n    </tr>\n  </thead>\n  <tbody>\n    <tr>\n      <th>0</th>\n      <td>353.0</td>\n    </tr>\n  </tbody>\n</table>\n</div>"
     },
     "metadata": {},
     "output_type": "display_data"
    },
    {
     "data": {
      "text/plain": "    id      name  age    city        _dlt_load_id         _dlt_id occupation\n0    1  Person_1   26  City_A   1707719825.615318  hAoJ+P4Rw4JGKw       None\n1    2  Person_2   27  City_A   1707719825.615318  yVhoBdTcyV6YRA       None\n2    3  Person_3   28  City_A   1707719825.615318  SYc29uPGvA8F+g       None\n3    4  Person_4   29  City_A   1707719825.615318  Yh0GKRdNsLn4iw       None\n4    5  Person_5   30  City_A   1707719825.615318  dN9GpOu7Tf3djA       None\n5    3  Person_3   33  City_B  1707719826.1786602  YYr1zd7nK3+a0w      Job_3\n6    4  Person_4   34  City_B  1707719826.1786602  AIw+VkXTJgGEyQ      Job_4\n7    5  Person_5   35  City_B  1707719826.1786602  R8hGLSThiQ3EWw      Job_5\n8    6  Person_6   36  City_B  1707719826.1786602  Ah9M8JK7+eVgLA      Job_6\n9    7  Person_7   37  City_B  1707719826.1786602  aPbAnsVw1teIPw      Job_7\n10   8  Person_8   38  City_B  1707719826.1786602  gRBrbpr0sQmNYg      Job_8",
      "text/html": "<div>\n<style scoped>\n    .dataframe tbody tr th:only-of-type {\n        vertical-align: middle;\n    }\n\n    .dataframe tbody tr th {\n        vertical-align: top;\n    }\n\n    .dataframe thead th {\n        text-align: right;\n    }\n</style>\n<table border=\"1\" class=\"dataframe\">\n  <thead>\n    <tr style=\"text-align: right;\">\n      <th></th>\n      <th>id</th>\n      <th>name</th>\n      <th>age</th>\n      <th>city</th>\n      <th>_dlt_load_id</th>\n      <th>_dlt_id</th>\n      <th>occupation</th>\n    </tr>\n  </thead>\n  <tbody>\n    <tr>\n      <th>0</th>\n      <td>1</td>\n      <td>Person_1</td>\n      <td>26</td>\n      <td>City_A</td>\n      <td>1707719825.615318</td>\n      <td>hAoJ+P4Rw4JGKw</td>\n      <td>None</td>\n    </tr>\n    <tr>\n      <th>1</th>\n      <td>2</td>\n      <td>Person_2</td>\n      <td>27</td>\n      <td>City_A</td>\n      <td>1707719825.615318</td>\n      <td>yVhoBdTcyV6YRA</td>\n      <td>None</td>\n    </tr>\n    <tr>\n      <th>2</th>\n      <td>3</td>\n      <td>Person_3</td>\n      <td>28</td>\n      <td>City_A</td>\n      <td>1707719825.615318</td>\n      <td>SYc29uPGvA8F+g</td>\n      <td>None</td>\n    </tr>\n    <tr>\n      <th>3</th>\n      <td>4</td>\n      <td>Person_4</td>\n      <td>29</td>\n      <td>City_A</td>\n      <td>1707719825.615318</td>\n      <td>Yh0GKRdNsLn4iw</td>\n      <td>None</td>\n    </tr>\n    <tr>\n      <th>4</th>\n      <td>5</td>\n      <td>Person_5</td>\n      <td>30</td>\n      <td>City_A</td>\n      <td>1707719825.615318</td>\n      <td>dN9GpOu7Tf3djA</td>\n      <td>None</td>\n    </tr>\n    <tr>\n      <th>5</th>\n      <td>3</td>\n      <td>Person_3</td>\n      <td>33</td>\n      <td>City_B</td>\n      <td>1707719826.1786602</td>\n      <td>YYr1zd7nK3+a0w</td>\n      <td>Job_3</td>\n    </tr>\n    <tr>\n      <th>6</th>\n      <td>4</td>\n      <td>Person_4</td>\n      <td>34</td>\n      <td>City_B</td>\n      <td>1707719826.1786602</td>\n      <td>AIw+VkXTJgGEyQ</td>\n      <td>Job_4</td>\n    </tr>\n    <tr>\n      <th>7</th>\n      <td>5</td>\n      <td>Person_5</td>\n      <td>35</td>\n      <td>City_B</td>\n      <td>1707719826.1786602</td>\n      <td>R8hGLSThiQ3EWw</td>\n      <td>Job_5</td>\n    </tr>\n    <tr>\n      <th>8</th>\n      <td>6</td>\n      <td>Person_6</td>\n      <td>36</td>\n      <td>City_B</td>\n      <td>1707719826.1786602</td>\n      <td>Ah9M8JK7+eVgLA</td>\n      <td>Job_6</td>\n    </tr>\n    <tr>\n      <th>9</th>\n      <td>7</td>\n      <td>Person_7</td>\n      <td>37</td>\n      <td>City_B</td>\n      <td>1707719826.1786602</td>\n      <td>aPbAnsVw1teIPw</td>\n      <td>Job_7</td>\n    </tr>\n    <tr>\n      <th>10</th>\n      <td>8</td>\n      <td>Person_8</td>\n      <td>38</td>\n      <td>City_B</td>\n      <td>1707719826.1786602</td>\n      <td>gRBrbpr0sQmNYg</td>\n      <td>Job_8</td>\n    </tr>\n  </tbody>\n</table>\n</div>"
     },
     "metadata": {},
     "output_type": "display_data"
    }
   ],
   "source": [
    "import dlt\n",
    "import duckdb\n",
    "\n",
    "# define the connection to load to.\n",
    "# use duckdb\n",
    "pipeline = dlt.pipeline(pipeline_name='workshop-homework', destination='duckdb', dataset_name='workshop-homework-dataset')\n",
    "\n",
    "# load the first generator\n",
    "info = pipeline.run(people_1(), table_name='people', write_disposition='replace')\n",
    "\n",
    "# calculate the sum of ages of all people\n",
    "conn = duckdb.connect(f\"{pipeline.pipeline_name}.duckdb\")\n",
    "res = conn.sql(\"SELECT SUM(Age) FROM workshop_homework_dataset.people\").df()\n",
    "display(res)\n",
    "\n",
    "# append the second generator\n",
    "info = pipeline.run(people_2(), table_name='people', write_disposition='append')\n",
    "# calculate the sum of all ages of people\n",
    "conn = duckdb.connect(f\"{pipeline.pipeline_name}.duckdb\")\n",
    "all_res = conn.sql(\"SELECT * FROM workshop_homework_dataset.people\").df()\n",
    "res = conn.sql(\"SELECT SUM(Age) FROM workshop_homework_dataset.people\").df()\n",
    "display(res)\n",
    "display(all_res)"
   ],
   "metadata": {
    "collapsed": false
   }
  },
  {
   "cell_type": "markdown",
   "source": [
    "Load the first generator and calculate the sum of ages of all people.\n",
    "Answer: The sum of ages of all people is 140\n",
    "After correctly appending the data, calculate the sum of all ages of people.\n",
    "Answer: The sum of all ages of people is 353"
   ],
   "metadata": {
    "collapsed": false
   }
  },
  {
   "cell_type": "markdown",
   "source": [
    "# 3. Merge a generator\n",
    "\n",
    "Re-use the generators from Exercise 2.\n",
    "\n",
    "A table's primary key needs to be created from the start, so load your data to a new table with primary key ID.\n",
    "\n",
    "Load your first generator first, and then load the second one with merge. Since they have overlapping IDs, some of the records from the first load should be replaced by the ones from the second load.\n",
    "\n",
    "After loading, you should have a total of 8 records, and ID 3 should have age 33.\n",
    "\n",
    "Question: **Calculate the sum of ages of all the people loaded as described above.**\n"
   ],
   "metadata": {
    "id": "pY4cFAWOSwN1"
   }
  },
  {
   "cell_type": "markdown",
   "source": [
    "# Solution: First make sure that the following modules are installed:"
   ],
   "metadata": {
    "id": "kKB2GTB9oVjr"
   }
  },
  {
   "cell_type": "code",
   "source": [
    "#Install the dependencies\n",
    "%%capture\n",
    "!pip install dlt[duckdb]"
   ],
   "metadata": {
    "id": "xTVvtyqrfVNq"
   },
   "execution_count": 16,
   "outputs": [
    {
     "name": "stderr",
     "output_type": "stream",
     "text": [
      "UsageError: Line magic function `%%capture` not found.\n"
     ]
    }
   ]
  },
  {
   "cell_type": "code",
   "source": [
    "# to do: homework :)\n",
    "\n",
    "import dlt\n",
    "import duckdb\n",
    "\n",
    "# load the first generator\n",
    "info = pipeline.run(people_1(), table_name='people', write_disposition='replace', primary_key='ID')\n",
    "# append the second generator\n",
    "info = pipeline.run(people_2(), table_name='people', write_disposition='merge', primary_key='ID')\n",
    "# calculate the sum of all ages of people\n",
    "conn = duckdb.connect(f\"{pipeline.pipeline_name}.duckdb\")\n",
    "all_res = conn.sql(\"SELECT * FROM workshop_homework_dataset.people\").df()\n",
    "res = conn.sql(\"SELECT SUM(Age) FROM workshop_homework_dataset.people\").df()\n",
    "display(res)\n",
    "display(all_res)"
   ],
   "metadata": {
    "id": "a2-PRBAkGC2K"
   },
   "execution_count": 20,
   "outputs": [
    {
     "data": {
      "text/plain": "   sum(Age)\n0     266.0",
      "text/html": "<div>\n<style scoped>\n    .dataframe tbody tr th:only-of-type {\n        vertical-align: middle;\n    }\n\n    .dataframe tbody tr th {\n        vertical-align: top;\n    }\n\n    .dataframe thead th {\n        text-align: right;\n    }\n</style>\n<table border=\"1\" class=\"dataframe\">\n  <thead>\n    <tr style=\"text-align: right;\">\n      <th></th>\n      <th>sum(Age)</th>\n    </tr>\n  </thead>\n  <tbody>\n    <tr>\n      <th>0</th>\n      <td>266.0</td>\n    </tr>\n  </tbody>\n</table>\n</div>"
     },
     "metadata": {},
     "output_type": "display_data"
    },
    {
     "data": {
      "text/plain": "   id      name  age    city       _dlt_load_id         _dlt_id occupation\n0   1  Person_1   26  City_A  1707719831.326818  9hejOrG7JD8LIw       None\n1   2  Person_2   27  City_A  1707719831.326818  NlJrJUR7mAPlcg       None\n2   7  Person_7   37  City_B  1707719831.909038  nEeDKwdnyFKiZg      Job_7\n3   4  Person_4   34  City_B  1707719831.909038  Z9K76Qme2JFFtA      Job_4\n4   5  Person_5   35  City_B  1707719831.909038  LFl5iY/3f13QlQ      Job_5\n5   3  Person_3   33  City_B  1707719831.909038  YUnTxdRgwhE50w      Job_3\n6   6  Person_6   36  City_B  1707719831.909038  7m/bGWAWJTOitA      Job_6\n7   8  Person_8   38  City_B  1707719831.909038  Q1Utm0gV5HhgYA      Job_8",
      "text/html": "<div>\n<style scoped>\n    .dataframe tbody tr th:only-of-type {\n        vertical-align: middle;\n    }\n\n    .dataframe tbody tr th {\n        vertical-align: top;\n    }\n\n    .dataframe thead th {\n        text-align: right;\n    }\n</style>\n<table border=\"1\" class=\"dataframe\">\n  <thead>\n    <tr style=\"text-align: right;\">\n      <th></th>\n      <th>id</th>\n      <th>name</th>\n      <th>age</th>\n      <th>city</th>\n      <th>_dlt_load_id</th>\n      <th>_dlt_id</th>\n      <th>occupation</th>\n    </tr>\n  </thead>\n  <tbody>\n    <tr>\n      <th>0</th>\n      <td>1</td>\n      <td>Person_1</td>\n      <td>26</td>\n      <td>City_A</td>\n      <td>1707719831.326818</td>\n      <td>9hejOrG7JD8LIw</td>\n      <td>None</td>\n    </tr>\n    <tr>\n      <th>1</th>\n      <td>2</td>\n      <td>Person_2</td>\n      <td>27</td>\n      <td>City_A</td>\n      <td>1707719831.326818</td>\n      <td>NlJrJUR7mAPlcg</td>\n      <td>None</td>\n    </tr>\n    <tr>\n      <th>2</th>\n      <td>7</td>\n      <td>Person_7</td>\n      <td>37</td>\n      <td>City_B</td>\n      <td>1707719831.909038</td>\n      <td>nEeDKwdnyFKiZg</td>\n      <td>Job_7</td>\n    </tr>\n    <tr>\n      <th>3</th>\n      <td>4</td>\n      <td>Person_4</td>\n      <td>34</td>\n      <td>City_B</td>\n      <td>1707719831.909038</td>\n      <td>Z9K76Qme2JFFtA</td>\n      <td>Job_4</td>\n    </tr>\n    <tr>\n      <th>4</th>\n      <td>5</td>\n      <td>Person_5</td>\n      <td>35</td>\n      <td>City_B</td>\n      <td>1707719831.909038</td>\n      <td>LFl5iY/3f13QlQ</td>\n      <td>Job_5</td>\n    </tr>\n    <tr>\n      <th>5</th>\n      <td>3</td>\n      <td>Person_3</td>\n      <td>33</td>\n      <td>City_B</td>\n      <td>1707719831.909038</td>\n      <td>YUnTxdRgwhE50w</td>\n      <td>Job_3</td>\n    </tr>\n    <tr>\n      <th>6</th>\n      <td>6</td>\n      <td>Person_6</td>\n      <td>36</td>\n      <td>City_B</td>\n      <td>1707719831.909038</td>\n      <td>7m/bGWAWJTOitA</td>\n      <td>Job_6</td>\n    </tr>\n    <tr>\n      <th>7</th>\n      <td>8</td>\n      <td>Person_8</td>\n      <td>38</td>\n      <td>City_B</td>\n      <td>1707719831.909038</td>\n      <td>Q1Utm0gV5HhgYA</td>\n      <td>Job_8</td>\n    </tr>\n  </tbody>\n</table>\n</div>"
     },
     "metadata": {},
     "output_type": "display_data"
    }
   ]
  },
  {
   "cell_type": "code",
   "execution_count": null,
   "outputs": [],
   "source": [
    "# The sum of ages of all the people loaded as described above is 266"
   ],
   "metadata": {
    "collapsed": false
   }
  },
  {
   "cell_type": "markdown",
   "source": [
    "Questions? difficulties? We are here to help.\n",
    "- DTC data engineering course channel: https://datatalks-club.slack.com/archives/C01FABYF2RG\n",
    "- dlt's DTC cohort channel: https://dlthub-community.slack.com/archives/C06GAEX2VNX"
   ],
   "metadata": {
    "id": "PoTJu4kbGG0z"
   }
  }
 ]
}
